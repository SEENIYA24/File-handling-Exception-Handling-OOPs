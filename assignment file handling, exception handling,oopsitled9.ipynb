{
 "cells": [
  {
   "cell_type": "code",
   "execution_count": null,
   "id": "38071d1a-6a1c-4ec0-b778-ffa3ce1ed258",
   "metadata": {},
   "outputs": [],
   "source": [
    "#assignment file handling,exception handling,oops"
   ]
  },
  {
   "cell_type": "code",
   "execution_count": null,
   "id": "2e0e422c-73c6-46ab-90ca-f1337454d35f",
   "metadata": {},
   "outputs": [],
   "source": [
    "#1.Write a Python program to read a file and display its contents\n"
   ]
  },
  {
   "cell_type": "code",
   "execution_count": 1,
   "id": "e03af8ed-a260-409e-9aaa-f185e9def2a0",
   "metadata": {},
   "outputs": [
    {
     "name": "stdout",
     "output_type": "stream",
     "text": [
      "Error: File 'example.txt' not found.\n"
     ]
    }
   ],
   "source": [
    "def read_and_display_file(filename):\n",
    "    try:\n",
    "        with open(filename, 'r') as file:\n",
    "            contents = file.read()\n",
    "            print(contents)\n",
    "    except FileNotFoundError:\n",
    "        print(f\"Error: File '{filename}' not found.\")\n",
    "    except IOError:\n",
    "        print(f\"Error: Unable to read file '{filename}'.\")\n",
    "\n",
    "# Example usage\n",
    "filename = \"example.txt\"\n",
    "read_and_display_file(filename)"
   ]
  },
  {
   "cell_type": "code",
   "execution_count": null,
   "id": "df66225b-7cc9-4fc8-8474-85e1fd9844a1",
   "metadata": {},
   "outputs": [],
   "source": []
  },
  {
   "cell_type": "code",
   "execution_count": null,
   "id": "a5dd67b3-59c6-4e35-a360-1cf91bcfa1cc",
   "metadata": {},
   "outputs": [],
   "source": [
    "#2.Write a Python program to copy the contents of one file to another file\n"
   ]
  },
  {
   "cell_type": "code",
   "execution_count": 3,
   "id": "d1e696f9-b0f2-4afb-b306-e067757d7741",
   "metadata": {},
   "outputs": [
    {
     "name": "stdout",
     "output_type": "stream",
     "text": [
      "Error: Source file 'source.txt' not found.\n"
     ]
    }
   ],
   "source": [
    "def copy_file(source_file, destination_file):\n",
    "    try:\n",
    "        with open(source_file, 'r') as source:\n",
    "            contents = source.read()\n",
    "        \n",
    "        with open(destination_file, 'w') as destination:\n",
    "            destination.write(contents)\n",
    "        \n",
    "        print(f\"Contents of '{source_file}' successfully copied to '{destination_file}'.\")\n",
    "    except FileNotFoundError:\n",
    "        print(f\"Error: Source file '{source_file}' not found.\")\n",
    "    except IOError:\n",
    "        print(\"Error: Unable to read source file or write to destination file.\")\n",
    "\n",
    "# Example usage\n",
    "source = \"source.txt\"\n",
    "destination = \"destination.txt\"\n",
    "copy_file(source, destination)"
   ]
  },
  {
   "cell_type": "code",
   "execution_count": null,
   "id": "3e16a8a0-546c-4600-8fc2-13bc32a378c9",
   "metadata": {},
   "outputs": [],
   "source": [
    "#3.Write a Python program to read the content of a file and count the total number of words in that file.\n"
   ]
  },
  {
   "cell_type": "code",
   "execution_count": 5,
   "id": "16986dab-4a6a-48f7-9a7c-2288734d9e91",
   "metadata": {},
   "outputs": [
    {
     "name": "stdout",
     "output_type": "stream",
     "text": [
      "Error: File 'example.txt' not found.\n"
     ]
    }
   ],
   "source": [
    "def count_words_in_file(filename):\n",
    "    try:\n",
    "        with open(filename, 'r') as file:\n",
    "            content = file.read()\n",
    "            words = content.split()\n",
    "            word_count = len(words)\n",
    "            print(f\"The file '{filename}' contains {word_count} words.\")\n",
    "            return word_count\n",
    "    except FileNotFoundError:\n",
    "        print(f\"Error: File '{filename}' not found.\")\n",
    "    except IOError:\n",
    "        print(f\"Error: Unable to read file '{filename}'.\")\n",
    "\n",
    "# Example usage\n",
    "filename = \"example.txt\"\n",
    "count_words_in_file(filename)"
   ]
  },
  {
   "cell_type": "code",
   "execution_count": null,
   "id": "181cc838-e279-4ea5-b8c2-f08861720964",
   "metadata": {},
   "outputs": [],
   "source": [
    "#4.Write a Python program to read the content of a file and count the number of occurrences of a specific word in that file"
   ]
  },
  {
   "cell_type": "code",
   "execution_count": 7,
   "id": "95c8625a-e74f-4151-8692-91f003b33e31",
   "metadata": {},
   "outputs": [
    {
     "name": "stdout",
     "output_type": "stream",
     "text": [
      "Error: File 'example.txt' not found.\n"
     ]
    }
   ],
   "source": [
    "def count_word_occurrences(filename, target_word):\n",
    "    try:\n",
    "        with open(filename, 'r') as file:\n",
    "            content = file.read()\n",
    "            words = content.lower().split()\n",
    "            word_count = words.count(target_word.lower())\n",
    "            print(f\"The word '{target_word}' appears {word_count} times in the file '{filename}'.\")\n",
    "            return word_count\n",
    "    except FileNotFoundError:\n",
    "        print(f\"Error: File '{filename}' not found.\")\n",
    "    except IOError:\n",
    "        print(f\"Error: Unable to read file '{filename}'.\")\n",
    "\n",
    "# Example usage\n",
    "filename = \"example.txt\"\n",
    "target_word = \"python\"\n",
    "count_word_occurrences(filename, target_word)"
   ]
  },
  {
   "cell_type": "code",
   "execution_count": null,
   "id": "f5c4f703-596b-4f45-908a-23f92df7d08d",
   "metadata": {},
   "outputs": [],
   "source": [
    "#5.Write a Python program that prompts the user to input a string and converts it to an integer. Use try-except blocks to handle any exceptions that might occur\n"
   ]
  },
  {
   "cell_type": "code",
   "execution_count": 9,
   "id": "562e95d8-d314-46bf-88f5-18d09b5a5198",
   "metadata": {},
   "outputs": [
    {
     "name": "stdin",
     "output_type": "stream",
     "text": [
      "Enter a number:  10\n"
     ]
    },
    {
     "name": "stdout",
     "output_type": "stream",
     "text": [
      "Successfully converted '10' to integer: 10\n"
     ]
    },
    {
     "data": {
      "text/plain": [
       "10"
      ]
     },
     "execution_count": 9,
     "metadata": {},
     "output_type": "execute_result"
    }
   ],
   "source": [
    "def string_to_int():\n",
    "    try:\n",
    "        user_input = input(\"Enter a number: \")\n",
    "        number = int(user_input)\n",
    "        print(f\"Successfully converted '{user_input}' to integer: {number}\")\n",
    "        return number\n",
    "    except ValueError:\n",
    "        print(f\"Error: '{user_input}' cannot be converted to an integer.\")\n",
    "\n",
    "# Example usage\n",
    "string_to_int()"
   ]
  },
  {
   "cell_type": "code",
   "execution_count": null,
   "id": "a276d5e9-6516-43df-b326-a7821e7e7c0b",
   "metadata": {},
   "outputs": [],
   "source": [
    "#6.Write a Python program that prompts the user to input a list of integers and raises an exception if any of the integers in the list are negative.\n"
   ]
  },
  {
   "cell_type": "code",
   "execution_count": 11,
   "id": "51963cb8-8d23-4b1e-9409-6fe830e62fdd",
   "metadata": {},
   "outputs": [
    {
     "name": "stdin",
     "output_type": "stream",
     "text": [
      "Enter a list of integers separated by spaces:  -4\n"
     ]
    },
    {
     "name": "stdout",
     "output_type": "stream",
     "text": [
      "Error: Negative integer found: -4\n"
     ]
    }
   ],
   "source": [
    "class NegativeIntegerError(Exception):\n",
    "    pass\n",
    "\n",
    "def check_negative_integers():\n",
    "    try:\n",
    "        input_string = input(\"Enter a list of integers separated by spaces: \")\n",
    "        integer_list = [int(num) for num in input_string.split()]\n",
    "        \n",
    "        for num in integer_list:\n",
    "            if num < 0:\n",
    "                raise NegativeIntegerError(f\"Negative integer found: {num}\")\n",
    "        \n",
    "        print(\"All integers are non-negative.\")\n",
    "        return integer_list\n",
    "    except ValueError:\n",
    "        print(\"Error: Invalid input. Please enter integers separated by spaces.\")\n",
    "    except NegativeIntegerError as e:\n",
    "        print(f\"Error: {e}\")\n",
    "\n",
    "# Example usage\n",
    "check_negative_integers()"
   ]
  },
  {
   "cell_type": "code",
   "execution_count": null,
   "id": "d29e6da1-bd67-485e-b8dc-8f774dc961ce",
   "metadata": {},
   "outputs": [],
   "source": [
    "#7.Write a Python program that prompts the user to input a list of integers and computes the average of those integers. Use try-except blocks to handle any exceptions that might occur.use the finally clause to print a message indicating that the program has finished running."
   ]
  },
  {
   "cell_type": "code",
   "execution_count": 13,
   "id": "ed71cb82-5b79-43ce-b40c-71fcb67e49fb",
   "metadata": {},
   "outputs": [
    {
     "name": "stdin",
     "output_type": "stream",
     "text": [
      "Enter a list of integers separated by spaces:  9,-4\n"
     ]
    },
    {
     "name": "stdout",
     "output_type": "stream",
     "text": [
      "Error: invalid literal for int() with base 10: '9,-4'\n",
      "Program has finished running.\n"
     ]
    }
   ],
   "source": [
    "def compute_average():\n",
    "    try:\n",
    "        input_string = input(\"Enter a list of integers separated by spaces: \")\n",
    "        integer_list = [int(num) for num in input_string.split()]\n",
    "        \n",
    "        if not integer_list:\n",
    "            raise ValueError(\"The list is empty.\")\n",
    "        \n",
    "        average = sum(integer_list) / len(integer_list)\n",
    "        print(f\"The average of the integers is: {average}\")\n",
    "        return average\n",
    "    except ValueError as e:\n",
    "        print(f\"Error: {e}\")\n",
    "    except ZeroDivisionError:\n",
    "        print(\"Error: Cannot compute average of an empty list.\")\n",
    "    finally:\n",
    "        print(\"Program has finished running.\")\n",
    "\n",
    "# Example usage\n",
    "compute_average()"
   ]
  },
  {
   "cell_type": "code",
   "execution_count": null,
   "id": "ba5f0473-5b37-4ad6-88de-5d75a919b254",
   "metadata": {},
   "outputs": [],
   "source": [
    "#8.Write a Python program that prompts the user to input a filename and writes a string to that file. Use try-except blocks to handle any exceptions that might occur and print a welcome message if there is no exception occurred."
   ]
  },
  {
   "cell_type": "code",
   "execution_count": 17,
   "id": "56fd0c09-d8ad-4638-9d1a-365e5fd38efa",
   "metadata": {},
   "outputs": [
    {
     "name": "stdin",
     "output_type": "stream",
     "text": [
      "Enter the filename:  seeniya\n",
      "Enter the content to write to the file:  assignment python\n"
     ]
    },
    {
     "name": "stdout",
     "output_type": "stream",
     "text": [
      "Successfully wrote content to 'seeniya'.\n",
      "Welcome! File operation completed successfully.\n"
     ]
    }
   ],
   "source": [
    "def write_to_file():\n",
    "    try:\n",
    "        filename = input(\"Enter the filename: \")\n",
    "        content = input(\"Enter the content to write to the file: \")\n",
    "        \n",
    "        with open(filename, 'w') as file:\n",
    "            file.write(content)\n",
    "        \n",
    "        print(f\"Successfully wrote content to '{filename}'.\")\n",
    "        print(\"Welcome! File operation completed successfully.\")\n",
    "    except IOError:\n",
    "        print(f\"Error: Unable to write to file '{filename}'.\")\n",
    "\n",
    "# Example usage\n",
    "write_to_file()"
   ]
  },
  {
   "cell_type": "code",
   "execution_count": null,
   "id": "6311306f-0e26-4d65-ad1b-7a8006450f89",
   "metadata": {},
   "outputs": [],
   "source": [
    "#9.Build a program to manage a university's course catalog. You want to define a base class Course that has the following properties:\n",
    "course_code: a string representing the course code (e.g., \"CS101\")\n",
    "course_name: a string representing the course name (e.g., \"Introduction to Computer Science\")\n",
    "credit_hours: an integer representing the credit hours for the course (e.g., 3)\n",
    "You also want to define two subclasses CoreCourse and ElectiveCourse, which inherit from the Course class.\n",
    "CoreCourse should have an additional property required_for_major which is a boolean representing whether the course is required for a particular major.\n",
    "ElectiveCourse should have an additional property elective_type which is a string representing the type of elective (e.g., \"general\", \"technical\", \"liberal arts\").\n"
   ]
  },
  {
   "cell_type": "code",
   "execution_count": 19,
   "id": "a5941380-cff9-44a2-bd68-654bf01c8d32",
   "metadata": {},
   "outputs": [
    {
     "name": "stdout",
     "output_type": "stream",
     "text": [
      "Core Course: Introduction to Computer Science, Required for major: True\n",
      "Elective Course: Introduction to Painting, Type: liberal arts\n"
     ]
    }
   ],
   "source": [
    "class Course:\n",
    "    def __init__(self, course_code, course_name, credit_hours):\n",
    "        self.course_code = course_code\n",
    "        self.course_name = course_name\n",
    "        self.credit_hours = credit_hours\n",
    "\n",
    "class CoreCourse(Course):\n",
    "    def __init__(self, course_code, course_name, credit_hours, required_for_major):\n",
    "        super().__init__(course_code, course_name, credit_hours)\n",
    "        self.required_for_major = required_for_major\n",
    "\n",
    "class ElectiveCourse(Course):\n",
    "    def __init__(self, course_code, course_name, credit_hours, elective_type):\n",
    "        super().__init__(course_code, course_name, credit_hours)\n",
    "        self.elective_type = elective_type\n",
    "\n",
    "# Example usage\n",
    "core_course = CoreCourse(\"CS101\", \"Introduction to Computer Science\", 3, True)\n",
    "elective_course = ElectiveCourse(\"ART201\", \"Introduction to Painting\", 2, \"liberal arts\")\n",
    "\n",
    "print(f\"Core Course: {core_course.course_name}, Required for major: {core_course.required_for_major}\")\n",
    "print(f\"Elective Course: {elective_course.course_name}, Type: {elective_course.elective_type}\")"
   ]
  },
  {
   "cell_type": "code",
   "execution_count": null,
   "id": "3a31aeb5-d388-4d2d-8ea8-fdb5a16f18fe",
   "metadata": {},
   "outputs": [],
   "source": [
    "#10.Create a Python module named employee that contains a class Employee with attributes name, salary and methods get_name() and get_salary(). Write a program to use this module to create an object of the Employee class and display its name and salary"
   ]
  },
  {
   "cell_type": "code",
   "execution_count": null,
   "id": "53825762-47a2-4510-ab2c-f1b81ca266f0",
   "metadata": {},
   "outputs": [],
   "source": [
    "class Employee:\n",
    "    def __init__(self, name, salary):\n",
    "        self._name = name\n",
    "        self._salary = salary\n",
    "\n",
    "    def get_name(self):\n",
    "        return self._name\n",
    "\n",
    "    def get_salary(self):\n",
    "        return self._salary\n",
    "\n",
    "from employee import Employee\n",
    "\n",
    "def main():\n",
    "    # Get employee information from user\n",
    "    name = input(\"Enter employee name: \")\n",
    "    salary = float(input(\"Enter employee salary: \"))\n",
    "\n",
    "    # Create an Employee object\n",
    "    emp = Employee(name, salary)\n",
    "\n",
    "    # Display employee information\n",
    "    print(\"\\nEmployee Information:\")\n",
    "    print(f\"Name: {emp.get_name()}\")\n",
    "    print(f\"Salary: ${emp.get_salary():.2f}\")\n",
    "\n",
    "if __name__ == \"__main__\":\n",
    "    main()\n",
    "        "
   ]
  }
 ],
 "metadata": {
  "kernelspec": {
   "display_name": "Python 3 (ipykernel)",
   "language": "python",
   "name": "python3"
  },
  "language_info": {
   "codemirror_mode": {
    "name": "ipython",
    "version": 3
   },
   "file_extension": ".py",
   "mimetype": "text/x-python",
   "name": "python",
   "nbconvert_exporter": "python",
   "pygments_lexer": "ipython3",
   "version": "3.12.4"
  }
 },
 "nbformat": 4,
 "nbformat_minor": 5
}
